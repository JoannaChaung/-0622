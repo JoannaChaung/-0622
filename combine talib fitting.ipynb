{
 "cells": [
  {
   "cell_type": "code",
   "execution_count": null,
   "metadata": {},
   "outputs": [],
   "source": [
    "import pandas as pd\n",
    "import datetime"
   ]
  },
  {
   "cell_type": "code",
   "execution_count": null,
   "metadata": {},
   "outputs": [],
   "source": [
    "file1_name = \"daily_trading_info_2014-2018.xlsx\"\n",
    "file2_name = \"daily_trading_info_2019-2020.xlsx\""
   ]
  },
  {
   "cell_type": "code",
   "execution_count": null,
   "metadata": {},
   "outputs": [],
   "source": [
    "file1 = pd.read_excel(file1_name, sheet_name = None)\n",
    "file2 = pd.read_excel(file2_name, sheet_name = None)"
   ]
  },
  {
   "cell_type": "code",
   "execution_count": null,
   "metadata": {},
   "outputs": [],
   "source": [
    "companies = []\n",
    "file1_index = []\n",
    "stock1_index = list(file1.keys())[:]\n",
    "file2_index = []\n",
    "stock2_index = list(file2.keys())[:]"
   ]
  },
  {
   "cell_type": "code",
   "execution_count": null,
   "metadata": {},
   "outputs": [],
   "source": [
    "import copy"
   ]
  },
  {
   "cell_type": "code",
   "execution_count": null,
   "metadata": {},
   "outputs": [],
   "source": [
    "companies = copy.deepcopy(stock2_index)"
   ]
  },
  {
   "cell_type": "code",
   "execution_count": null,
   "metadata": {},
   "outputs": [],
   "source": [
    "print(len(stock1_index))\n",
    "print(len(stock2_index))\n",
    "print(len(companies))"
   ]
  },
  {
   "cell_type": "code",
   "execution_count": null,
   "metadata": {},
   "outputs": [],
   "source": [
    "for i in range(0, len(stock1_index)):\n",
    "    if(stock1_index[i] not in companies):\n",
    "        print(stock1_index[i])"
   ]
  },
  {
   "cell_type": "code",
   "execution_count": null,
   "metadata": {},
   "outputs": [],
   "source": [
    "rest_comy = []\n",
    "for i in range(0, len(stock2_index)):\n",
    "    if(stock2_index[i] not in stock1_index):\n",
    "        print(stock2_index[i])\n",
    "        rest_comy.append(stock2_index[i])\n",
    "print(len(rest_comy))"
   ]
  },
  {
   "cell_type": "code",
   "execution_count": null,
   "metadata": {},
   "outputs": [],
   "source": [
    "file1[stock2_index[0]].iloc[:,1:-1].head()"
   ]
  },
  {
   "cell_type": "code",
   "execution_count": null,
   "metadata": {},
   "outputs": [],
   "source": [
    "file2[stock2_index[0]].iloc[:,1:].head()"
   ]
  },
  {
   "cell_type": "code",
   "execution_count": null,
   "metadata": {},
   "outputs": [],
   "source": [
    "a = file1[stock2_index[0]].iloc[:,1:-1].head()\n",
    "b = file2[stock2_index[0]].iloc[:,1:].head()"
   ]
  },
  {
   "cell_type": "code",
   "execution_count": null,
   "metadata": {},
   "outputs": [],
   "source": [
    "pd.concat([a, b])"
   ]
  },
  {
   "cell_type": "code",
   "execution_count": null,
   "metadata": {},
   "outputs": [],
   "source": [
    "#start merging"
   ]
  },
  {
   "cell_type": "code",
   "execution_count": null,
   "metadata": {},
   "outputs": [],
   "source": [
    "result_name = []\n",
    "result_sheet = []\n",
    "\n",
    "for i in range(0, len(rest_comy)):\n",
    "    result_name.append(rest_comy[i])\n",
    "    result_sheet.append(file2[rest_comy[i]].iloc[:,1:])\n",
    "    \n",
    "for w in range(0, len(result_sheet)):\n",
    "    result_sheet[w].to_excel(result_name[w]+\".xlsx\", sheet_name = result_name[w], index=False)\n",
    "    print(w)"
   ]
  },
  {
   "cell_type": "code",
   "execution_count": null,
   "metadata": {},
   "outputs": [],
   "source": [
    "stock1_index"
   ]
  },
  {
   "cell_type": "code",
   "execution_count": null,
   "metadata": {},
   "outputs": [],
   "source": [
    "result_name = []\n",
    "result_sheet = []\n",
    "\n",
    "for i in range(0, len(stock1_index)):\n",
    "    result_name.append(stock1_index[i])\n",
    "    a = file1[stock1_index[i]].iloc[:,1:-1]\n",
    "    b = file2[stock1_index[i]].iloc[:,1:]\n",
    "    result_sheet.append( pd.concat([a, b]) )"
   ]
  },
  {
   "cell_type": "code",
   "execution_count": null,
   "metadata": {},
   "outputs": [],
   "source": [
    "print(len(result_name))\n",
    "print(len(result_sheet))"
   ]
  },
  {
   "cell_type": "code",
   "execution_count": null,
   "metadata": {},
   "outputs": [],
   "source": [
    "result_sheet[1]"
   ]
  },
  {
   "cell_type": "code",
   "execution_count": null,
   "metadata": {},
   "outputs": [],
   "source": [
    "for w in range(0, len(result_sheet)):\n",
    "    result_sheet[w].to_excel(result_name[w]+\".xlsx\", sheet_name = result_name[w], index=False)\n",
    "    if(w%100==0):\n",
    "        print(w)"
   ]
  },
  {
   "cell_type": "code",
   "execution_count": null,
   "metadata": {},
   "outputs": [],
   "source": [
    "#talib"
   ]
  },
  {
   "cell_type": "code",
   "execution_count": null,
   "metadata": {},
   "outputs": [],
   "source": [
    "file2_name = \"daily_trading_info_2019-2020.xlsx\"\n",
    "file2 = pd.read_excel(file2_name, sheet_name = None)\n",
    "company_index = []\n",
    "company_index = list(file2.keys())[:]"
   ]
  },
  {
   "cell_type": "code",
   "execution_count": null,
   "metadata": {},
   "outputs": [],
   "source": [
    "print(len(company_index))"
   ]
  },
  {
   "cell_type": "code",
   "execution_count": null,
   "metadata": {},
   "outputs": [],
   "source": [
    "from talib import abstract"
   ]
  },
  {
   "cell_type": "code",
   "execution_count": null,
   "metadata": {},
   "outputs": [],
   "source": [
    "pd.read_excel(company_index[0]+\".xlsx\")"
   ]
  },
  {
   "cell_type": "code",
   "execution_count": null,
   "metadata": {},
   "outputs": [],
   "source": [
    "df = pd.read_excel(company_index[0]+\".xlsx\")"
   ]
  },
  {
   "cell_type": "code",
   "execution_count": null,
   "metadata": {},
   "outputs": [],
   "source": [
    "inputs = {\n",
    "    'open': df[\"open\"],\n",
    "    'high': df[\"high\"],\n",
    "    'low':  df[\"low\"],\n",
    "    'close': df[\"close\"],\n",
    "    'volume': df[\"volume\"]\n",
    "}\n",
    "# uses close prices (default)\n",
    "out1 = abstract.APO(inputs, fastperiod=12, slowperiod=26, matype=0)"
   ]
  },
  {
   "cell_type": "code",
   "execution_count": null,
   "metadata": {},
   "outputs": [],
   "source": [
    "out1"
   ]
  },
  {
   "cell_type": "code",
   "execution_count": null,
   "metadata": {},
   "outputs": [],
   "source": [
    "pd.DataFrame(out1, columns=[\"APO5\"]).head(30)"
   ]
  },
  {
   "cell_type": "code",
   "execution_count": null,
   "metadata": {},
   "outputs": [],
   "source": [
    "out1"
   ]
  },
  {
   "cell_type": "code",
   "execution_count": null,
   "metadata": {},
   "outputs": [],
   "source": [
    "pd.concat([df, pd.DataFrame(out1, columns=[\"APO5\"])], axis=1).head(30)"
   ]
  },
  {
   "cell_type": "markdown",
   "metadata": {},
   "source": [
    "Starting calculating"
   ]
  },
  {
   "cell_type": "code",
   "execution_count": null,
   "metadata": {},
   "outputs": [],
   "source": [
    "for w in range(0, len(company_index)):\n",
    "    df = pd.read_excel(company_index[w]+\".xlsx\")\n",
    "    inputs = {\n",
    "    'open': df[\"open\"],\n",
    "    'high': df[\"high\"],\n",
    "    'low':  df[\"low\"],\n",
    "    'close': df[\"close\"],\n",
    "    'volume': df[\"volume\"]\n",
    "    }\n",
    "    # uses close prices (default)\n",
    "    out1 = abstract.APO(inputs, timeperiod=5)\n",
    "    a =  pd.DataFrame(out1, columns=[\"APO5\"])\n",
    "    pd.concat([df,a], axis=1).to_excel(company_index[w]+\".xlsx\", \\\n",
    "                                              sheet_name = company_index[w], index=False)\n",
    "    if(w%100==0):\n",
    "        print(w)"
   ]
  },
  {
   "cell_type": "markdown",
   "metadata": {},
   "source": [
    "Assign the features to the train file with labels"
   ]
  },
  {
   "cell_type": "code",
   "execution_count": null,
   "metadata": {},
   "outputs": [],
   "source": [
    "train_set = pd.read_excel(\"strategy_results_train.xlsx\")"
   ]
  },
  {
   "cell_type": "code",
   "execution_count": null,
   "metadata": {},
   "outputs": [],
   "source": [
    "import copy"
   ]
  },
  {
   "cell_type": "code",
   "execution_count": null,
   "metadata": {},
   "outputs": [],
   "source": [
    "dataset = copy.deepcopy(train_set)"
   ]
  },
  {
   "cell_type": "code",
   "execution_count": null,
   "metadata": {
    "scrolled": true
   },
   "outputs": [],
   "source": [
    "temp = []\n",
    "for i in range(0, dataset.shape[0]):\n",
    "# for i in range(0, 10):\n",
    "    if(i%1000==0):\n",
    "        print(i, datetime.datetime.now())\n",
    "    trade_company = dataset.iloc[i][0].split(\"_\")[0]\n",
    "    trade_date    = dataset.iloc[i][0].split(\"_\")[1]\n",
    "    df = pd.read_excel(trade_company+\".xlsx\")\n",
    "    trade_date_datetime = datetime.date(int(trade_date[:4]), int(trade_date[4:]), 1) - datetime.timedelta(days=1)\n",
    "    lower_index = 0\n",
    "    for index in range(0, df.shape[0]):\n",
    "        if(df[\"date\"].iloc[index]< trade_date_datetime):\n",
    "            lower_index = index\n",
    "        else:\n",
    "            break\n",
    "#     print(list(df.iloc[lower_index, :]))\n",
    "    temp.append(list(df.iloc[lower_index, :]))"
   ]
  },
  {
   "cell_type": "code",
   "execution_count": null,
   "metadata": {},
   "outputs": [],
   "source": [
    "temp[1]"
   ]
  },
  {
   "cell_type": "code",
   "execution_count": null,
   "metadata": {},
   "outputs": [],
   "source": [
    "pd.DataFrame(temp).to_excel(\"train_output.xlsx\", index=False)"
   ]
  },
  {
   "cell_type": "code",
   "execution_count": null,
   "metadata": {},
   "outputs": [],
   "source": [
    "# df.iloc[lower_index, :]"
   ]
  },
  {
   "cell_type": "code",
   "execution_count": null,
   "metadata": {},
   "outputs": [],
   "source": [
    "testset = pd.read_excel(\"sampleSubmission.xlsx\")"
   ]
  },
  {
   "cell_type": "code",
   "execution_count": null,
   "metadata": {},
   "outputs": [],
   "source": [
    "testset.head()"
   ]
  },
  {
   "cell_type": "code",
   "execution_count": null,
   "metadata": {},
   "outputs": [],
   "source": [
    "temp = []\n",
    "for i in range(0, testset.shape[0]):\n",
    "# for i in range(0, 10):\n",
    "    if(i%1000==0):\n",
    "        print(i, datetime.datetime.now())\n",
    "    trade_company = testset.iloc[i][0].split(\"_\")[0]\n",
    "    trade_date    = testset.iloc[i][0].split(\"_\")[1]\n",
    "    df = pd.read_excel(trade_company+\".xlsx\")\n",
    "    trade_date_datetime = datetime.date(int(trade_date[:4]), int(trade_date[4:]), 1) - datetime.timedelta(days=1)\n",
    "    lower_index = 0\n",
    "    for index in range(0, df.shape[0]):\n",
    "        if(df[\"date\"].iloc[index]< trade_date_datetime):\n",
    "            lower_index = index\n",
    "        else:\n",
    "            break\n",
    "#     print(list(df.iloc[lower_index, :]))\n",
    "    if(lower_index==0):\n",
    "        temp.append(dash = [\"-\",\"\",\"\",\"\",\"\",\"\",\"\",\"\",\"\"])\n",
    "    else:\n",
    "        temp.append(list(df.iloc[lower_index, :]))"
   ]
  },
  {
   "cell_type": "code",
   "execution_count": null,
   "metadata": {},
   "outputs": [],
   "source": [
    "pd.DataFrame(temp).to_excel(\"test_output.xlsx\", index=False)"
   ]
  },
  {
   "cell_type": "code",
   "execution_count": null,
   "metadata": {},
   "outputs": [],
   "source": [
    "temp[0]"
   ]
  },
  {
   "cell_type": "code",
   "execution_count": null,
   "metadata": {},
   "outputs": [],
   "source": [
    "dash = [\"-\",\"\",\"\",\"\",\"\",\"\",\"\",\"\",\"\"]"
   ]
  },
  {
   "cell_type": "markdown",
   "metadata": {},
   "source": [
    "#fitting"
   ]
  },
  {
   "cell_type": "code",
   "execution_count": null,
   "metadata": {},
   "outputs": [],
   "source": [
    "import pandas as pd\n",
    "data = pd.read_excel(\"strategy_results_train.xlsx\")"
   ]
  },
  {
   "cell_type": "code",
   "execution_count": null,
   "metadata": {},
   "outputs": [],
   "source": [
    "data.head()"
   ]
  },
  {
   "cell_type": "code",
   "execution_count": null,
   "metadata": {},
   "outputs": [],
   "source": [
    "data2 = pd.concat( [data.iloc[:, 1], data.iloc[:, 8:]], axis=1)"
   ]
  },
  {
   "cell_type": "code",
   "execution_count": null,
   "metadata": {},
   "outputs": [],
   "source": [
    "data2.head()"
   ]
  },
  {
   "cell_type": "code",
   "execution_count": null,
   "metadata": {},
   "outputs": [],
   "source": [
    "data2.isnull().any()"
   ]
  },
  {
   "cell_type": "code",
   "execution_count": null,
   "metadata": {},
   "outputs": [],
   "source": [
    "data2 = data2.dropna(axis = 0)\n",
    "data2.isnull().any()"
   ]
  },
  {
   "cell_type": "code",
   "execution_count": null,
   "metadata": {},
   "outputs": [],
   "source": [
    "y = data2[\"label\"]\n",
    "y"
   ]
  },
  {
   "cell_type": "code",
   "execution_count": null,
   "metadata": {},
   "outputs": [],
   "source": [
    "X = data2.iloc[:, 1:]"
   ]
  },
  {
   "cell_type": "code",
   "execution_count": null,
   "metadata": {},
   "outputs": [],
   "source": [
    "X"
   ]
  },
  {
   "cell_type": "code",
   "execution_count": null,
   "metadata": {},
   "outputs": [],
   "source": [
    "X = X.dropna(axis = 0)"
   ]
  },
  {
   "cell_type": "code",
   "execution_count": null,
   "metadata": {},
   "outputs": [],
   "source": [
    "X.isnull().any()"
   ]
  },
  {
   "cell_type": "code",
   "execution_count": null,
   "metadata": {},
   "outputs": [],
   "source": [
    "X.shape"
   ]
  },
  {
   "cell_type": "code",
   "execution_count": null,
   "metadata": {},
   "outputs": [],
   "source": [
    "from sklearn.ensemble import RandomForestClassifier\n",
    "clf = RandomForestClassifier()\n",
    "clf.fit(X, y)"
   ]
  },
  {
   "cell_type": "code",
   "execution_count": null,
   "metadata": {},
   "outputs": [],
   "source": [
    "testdata = pd.read_excel(\"sampleSubmission.xlsx\")"
   ]
  },
  {
   "cell_type": "code",
   "execution_count": null,
   "metadata": {},
   "outputs": [],
   "source": [
    "testdata = testdata.fillna(0)\n",
    "testdata.isnull().any()"
   ]
  },
  {
   "cell_type": "code",
   "execution_count": null,
   "metadata": {},
   "outputs": [],
   "source": [
    "testdata.iloc[:, 2:]"
   ]
  },
  {
   "cell_type": "code",
   "execution_count": null,
   "metadata": {},
   "outputs": [],
   "source": [
    "result = clf.predict(testdata.iloc[:, 2:])"
   ]
  },
  {
   "cell_type": "code",
   "execution_count": null,
   "metadata": {},
   "outputs": [],
   "source": [
    "pd.DataFrame(result).to_excel(\"prediction.xlsx\", index=False)"
   ]
  }
 ],
 "metadata": {
  "kernelspec": {
   "display_name": "Python 3",
   "language": "python",
   "name": "python3"
  },
  "language_info": {
   "codemirror_mode": {
    "name": "ipython",
    "version": 3
   },
   "file_extension": ".py",
   "mimetype": "text/x-python",
   "name": "python",
   "nbconvert_exporter": "python",
   "pygments_lexer": "ipython3",
   "version": "3.7.4"
  }
 },
 "nbformat": 4,
 "nbformat_minor": 4
}
